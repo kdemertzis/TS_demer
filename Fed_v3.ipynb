{
  "nbformat": 4,
  "nbformat_minor": 0,
  "metadata": {
    "colab": {
      "provenance": [],
      "include_colab_link": true
    },
    "kernelspec": {
      "name": "python3",
      "display_name": "Python 3"
    },
    "language_info": {
      "name": "python"
    }
  },
  "cells": [
    {
      "cell_type": "markdown",
      "metadata": {
        "id": "view-in-github",
        "colab_type": "text"
      },
      "source": [
        "<a href=\"https://colab.research.google.com/github/kdemertzis/TS_demer/blob/main/Fed_v3.ipynb\" target=\"_parent\"><img src=\"https://colab.research.google.com/assets/colab-badge.svg\" alt=\"Open In Colab\"/></a>"
      ]
    },
    {
      "cell_type": "code",
      "execution_count": null,
      "metadata": {
        "id": "FA-vtXHyCZke"
      },
      "outputs": [],
      "source": [
        "import numpy as np\n",
        "import pandas as pd\n",
        "from sklearn.preprocessing import MinMaxScaler\n",
        "from sklearn.model_selection import train_test_split\n",
        "from sklearn.ensemble import RandomForestClassifier\n",
        "from sklearn.metrics import accuracy_score, confusion_matrix\n",
        "import matplotlib.pyplot as plt\n",
        "\n",
        "def federated_training(df, target, participants, chunk_size, early_stopping_rounds, regularization_coef, accuracy_threshold):\n",
        "    # Split the data into chunks of equal size\n",
        "    chunks = np.array_split(df, participants)\n",
        "    \n",
        "    # Scale the data on each device/participant\n",
        "    for i in range(participants):\n",
        "        scaler = MinMaxScaler()\n",
        "        chunks[i] = scaler.fit_transform(chunks[i])\n",
        "    \n",
        "    # Initialize the first models\n",
        "    models_list = []\n",
        "    for i in range(participants):\n",
        "        X_train, X_test, y_train, y_test = train_test_split(chunks[i][:,:-1], chunks[i][:,-1], test_size=0.2)\n",
        "        model = RandomForestClassifier(n_jobs=-1)\n",
        "        model.fit(X_train, y_train)\n",
        "        models_list.append(model)\n",
        "        \n",
        "    # Initialize the federated model\n",
        "    federated_model = RandomForestClassifier(n_jobs=-1)\n",
        "    federated_model.fit(X_train, y_train)\n",
        "    \n",
        "    # Train the models and aggregate the model weights\n",
        "    for iteration in range(early_stopping_rounds):\n",
        "        for i in range(participants):\n",
        "            model = RandomForestClassifier(n_jobs=-1)\n",
        "            model.fit(X_train, y_train)\n",
        "            models_list[i] = model\n",
        "            \n",
        "        # Aggregate the model weights\n",
        "        federated_model.estimators_ += [model.estimators_ for model in models_list]\n",
        "        federated_model.n_estimators_ = len(federated_model.estimators_)\n",
        "        \n",
        "        # Evaluate the performance on a validation set\n",
        "        y_pred = federated_model.predict(X_test)\n",
        "        accuracy = accuracy_score(y_test, y_pred)\n",
        "        print(f\"Iteration {iteration}: Accuracy = {accuracy}\")\n",
        "        \n",
        "        # Check if accuracy has reached the threshold          \n",
        "        if accuracy >= accuracy_threshold:\n",
        "            print(\"Accuracy threshold reached, stopping training\")\n",
        "            break\n",
        "\n",
        "    # Plot confusion matrix\n",
        "    plt.figure()\n",
        "    cm = confusion_matrix(y_test, y_pred)\n",
        "    plt.imshow(cm, cmap='binary')\n",
        "    plt.colorbar()\n",
        "    plt.xticks([0, 1], ['Negative', 'Positive'])\n",
        "    plt.yticks([0, 1], ['Negative', 'Positive'])\n",
        "    plt.xlabel(\"Predicted label\")\n",
        "    plt.ylabel(\"True label\")\n",
        "    plt.title(\"Confusion Matrix\")\n",
        "    plt.show()\n"
      ]
    },
    {
      "cell_type": "code",
      "source": [
        "import numpy as np\n",
        "import pandas as pd\n",
        "from sklearn.preprocessing import MinMaxScaler\n",
        "from sklearn.model_selection import train_test_split\n",
        "from sklearn.ensemble import RandomForestClassifier\n",
        "from sklearn.metrics import accuracy_score\n",
        "import matplotlib.pyplot as plt\n",
        "\n",
        "def federated_training(df, target, participants, chunk_size, early_stopping_rounds, regularization_coef, accuracy_threshold):\n",
        "    # Split the data into chunks of equal size\n",
        "    chunks = np.array_split(df, participants)\n",
        "    \n",
        "    # Scale the data on each device/participant\n",
        "    for i in range(participants):\n",
        "        scaler = MinMaxScaler()\n",
        "        chunks[i] = scaler.fit_transform(chunks[i])\n",
        "    \n",
        "    # Initialize the first models\n",
        "    models_list = []\n",
        "    for i in range(participants):\n",
        "        X_train, X_test, y_train, y_test = train_test_split(chunks[i], df[target], test_size=0.2)\n",
        "        model = RandomForestClassifier()\n",
        "        model.fit(X_train, y_train)\n",
        "        models_list.append(model)\n",
        "        \n",
        "    # Initialize the federated model\n",
        "    federated_model = RandomForestClassifier()\n",
        "    \n",
        "    # Train the models and aggregate the model weights\n",
        "    accuracy_history = []\n",
        "    for iteration in range(early_stopping_rounds):\n",
        "        for i in range(participants):\n",
        "            X_train, X_test, y_train, y_test = train_test_split(chunks[i], df[target], test_size=0.2)\n",
        "            models_list[i].fit(X_train, y_train)\n",
        "            \n",
        "        # Aggregate the model weights\n",
        "        federated_model.estimators_ = models_list[0].estimators_\n",
        "        for i in range(1, participants):\n",
        "            federated_model.estimators_ += models_list[i].estimators_\n",
        "        federated_model.estimators_ /= participants\n",
        "        \n",
        "        # Evaluate the performance on a validation set\n",
        "        X_train, X_test, y_train, y_test = train_test_split(df, df[target], test_size=0.2)\n",
        "        y_pred = federated_model.predict(X_test)\n",
        "        accuracy = accuracy_score(y_test, y_pred)\n",
        "        accuracy_history.append(accuracy)\n",
        "        print(f\"Iteration {iteration}: Accuracy = {accuracy}\")\n",
        "        \n",
        "        # Check if accuracy has reached the threshold\n",
        "        if accuracy >= accuracy_threshold:\n",
        "            # Plot the accuracy history\n",
        "            plt.plot(accuracy_history)\n",
        "            plt.title(\"Accuracy over Training Iterations\")\n",
        "            plt.xlabel(\"Iteration\")\n",
        "            plt.ylabel(\"Accuracy\")\n",
        "            plt.show()\n",
        "\n",
        "            # Report the final accuracy\n",
        "            print(f\"Final Accuracy: {accuracy}\")\n",
        "            break\n"
      ],
      "metadata": {
        "id": "EVVnZuwuDCrm"
      },
      "execution_count": null,
      "outputs": []
    },
    {
      "cell_type": "code",
      "source": [
        "import xgboost as xgb\n",
        "import numpy as np\n",
        "import pandas as pd\n",
        "import matplotlib.pyplot as plt\n",
        "from sklearn.metrics import accuracy_score\n",
        "\n",
        "# Generate synthetic data\n",
        "np.random.seed(0)\n",
        "data = np.random.rand(10000, 10)\n",
        "labels = np.random.randint(2, size=10000)\n",
        "test_data = np.random.rand(1000, 10)\n",
        "test_labels = np.random.randint(2, size=1000)\n",
        "\n",
        "# Divide the data into 5 parts for each individual model\n",
        "data_part1, data_part2, data_part3, data_part4, data_part5 = np.array_split(data, 5)\n",
        "\n",
        "# Train individual models on their own data\n",
        "model1 = xgb.XGBClassifier().fit(data_part1, labels[:2000])\n",
        "model2 = xgb.XGBClassifier().fit(data_part2, labels[2000:4000])\n",
        "model3 = xgb.XGBClassifier().fit(data_part3, labels[4000:6000])\n",
        "model4 = xgb.XGBClassifier().fit(data_part4, labels[6000:8000])\n",
        "model5 = xgb.XGBClassifier().fit(data_part5, labels[8000:])\n",
        "\n",
        "# Combine the models into a federated model\n",
        "federated_model = [model1, model2, model3, model4, model5]\n",
        "\n",
        "# Evaluate the federated model on the test data\n",
        "federated_predictions = [model.predict(test_data) for model in federated_model]\n",
        "federated_predictions = np.mean(federated_predictions, axis=0)\n",
        "federated_predictions = np.round(federated_predictions).astype(int)\n",
        "\n",
        "# Compare the performance of the federated model to each individual model\n",
        "individual_predictions = [model.predict(test_data) for model in [model1, model2, model3, model4, model5]]\n",
        "individual_accuracies = [accuracy_score(test_labels, predictions) for predictions in individual_predictions]\n",
        "federated_accuracy = accuracy_score(test_labels, federated_predictions)\n",
        "\n",
        "if federated_accuracy > max(individual_accuracies):\n",
        "    print(\"The federated model has higher performance, sharing with federated partners\")\n",
        "    # share the federated model with federated partners\n",
        "else:\n",
        "    print(\"The federated model does not have higher performance, keep individual models\")\n",
        "\n",
        "# Plot the accuracy of each individual model\n",
        "plt.bar([\"Model 1\", \"Model 2\", \"Model 3\", \"Model 4\", \"Model 5\"], individual_accuracies)\n",
        "plt.show()\n"
      ],
      "metadata": {
        "colab": {
          "base_uri": "https://localhost:8080/",
          "height": 283
        },
        "id": "ux5D4F3NEiYS",
        "outputId": "c56956a3-8033-46aa-c59b-72e54d6e34fa"
      },
      "execution_count": null,
      "outputs": [
        {
          "output_type": "stream",
          "name": "stdout",
          "text": [
            "The federated model does not have higher performance, keep individual models\n"
          ]
        },
        {
          "output_type": "display_data",
          "data": {
            "text/plain": [
              "<Figure size 432x288 with 1 Axes>"
            ],
            "image/png": "[encoded data removed]"
          },
          "metadata": {
            "needs_background": "light"
          }
        }
      ]
    },
    {
      "cell_type": "code",
      "source": [
        "import xgboost as xgb\n",
        "import numpy as np\n",
        "import pandas as pd\n",
        "import matplotlib.pyplot as plt\n",
        "from sklearn.metrics import accuracy_score, roc_auc_score\n",
        "\n",
        "# Generate synthetic data\n",
        "np.random.seed(0)\n",
        "data = np.random.rand(1000, 10)\n",
        "labels = np.random.randint(2, size=1000)\n",
        "test_data = np.random.rand(100, 10)\n",
        "test_labels = np.random.randint(2, size=100)\n",
        "\n",
        "# Divide the data into 5 parts for each individual model\n",
        "data_part1, data_part2, data_part3, data_part4, data_part5 = np.array_split(data, 5)\n",
        "\n",
        "# Train individual models on their own data\n",
        "model1 = xgb.XGBClassifier().fit(data_part1, labels[:200])\n",
        "model2 = xgb.XGBClassifier().fit(data_part2, labels[200:400])\n",
        "model3 = xgb.XGBClassifier().fit(data_part3, labels[400:600])\n",
        "model4 = xgb.XGBClassifier().fit(data_part4, labels[600:800])\n",
        "model5 = xgb.XGBClassifier().fit(data_part5, labels[800:])\n",
        "\n",
        "# Combine the models into a federated model\n",
        "federated_model = [model1, model2, model3, model4, model5]\n",
        "\n",
        "# Evaluate the federated model on the test data\n",
        "federated_predictions = [model.predict_proba(test_data)[:, 1] for model in federated_model]\n",
        "federated_predictions = np.mean(federated_predictions, axis=0)\n",
        "federated_predictions = np.round(federated_predictions).astype(int)\n",
        "\n",
        "# Compare the performance of the federated model to each individual model\n",
        "individual_predictions = [model.predict_proba(test_data)[:, 1] for model in [model1, model2, model3, model4, model5]]\n",
        "individual_accuracies = [accuracy_score(test_labels, np.round(predictions).astype(int)) for predictions in individual_predictions]\n",
        "individual_auc = [roc_auc_score(test_labels, predictions) for predictions in individual_predictions]\n",
        "federated_accuracy = accuracy_score(test_labels, federated_predictions)\n",
        "federated_auc = roc_auc_score(test_labels, federated_predictions)\n",
        "\n",
        "if federated_auc > max(individual_auc):\n",
        "    print(\"The federated model has higher performance, sharing with federated partners\")\n",
        "    # share the federated model with federated partners\n",
        "else:\n",
        "    print(\"The federated model does not have higher performance, keep individual models\")\n",
        "\n",
        "# Plot the accuracy and AUC of each individual model\n",
        "fig, ax = plt.subplots(1, 2, figsize=(15, 5))\n",
        "ax[0].bar([\"Model 1\", \"Model 2\", \"Model 3\", \"Model 4\", \"Model 5\"], individual_accuracies)\n",
        "ax[0].set_title(\"Accuracy of Individual Models\")\n",
        "ax[1].bar([\"Model 1\", \"Model 2\", \"Model 3\", \"Model 4\", \"Model 5\"], individual_auc)\n",
        "ax[1].set_title(\"AUC of Individual Models\")\n",
        "plt.show()\n",
        "\n",
        "# Plot the accuracy and AUC of the federated model\n",
        "fig, ax = plt.subplots(1, 2, figsize=(15, 5))\n",
        "ax[0].bar([\"Federated Model\"], [federated_accuracy])\n",
        "ax[0].set_title(\"Accuracy of Federated Model\")\n",
        "ax[1].bar([\"Federated Model\"], [federated_auc])\n",
        "ax[1].set_title(\"AUC of Federated Model\")\n",
        "plt.show()\n",
        "\n"
      ],
      "metadata": {
        "colab": {
          "base_uri": "https://localhost:8080/",
          "height": 673
        },
        "id": "74yuGLv8FgKH",
        "outputId": "691441e4-af17-4573-cefe-424b0604a400"
      },
      "execution_count": null,
      "outputs": [
        {
          "output_type": "stream",
          "name": "stdout",
          "text": [
            "The federated model does not have higher performance, keep individual models\n"
          ]
        },
        {
          "output_type": "display_data",
          "data": {
            "text/plain": [
              "<Figure size 1080x360 with 2 Axes>"
            ],
            "image/png": "[encoded data removed]"
          },
          "metadata": {
            "needs_background": "light"
          }
        },
        {
          "output_type": "display_data",
          "data": {
            "text/plain": [
              "<Figure size 1080x360 with 2 Axes>"
            ],
            "image/png": "[encoded data removed]"
          },
          "metadata": {
            "needs_background": "light"
          }
        }
      ]
    },
    {
      "cell_type": "code",
      "source": [
        "import xgboost as xgb\n",
        "import numpy as np\n",
        "import pandas as pd\n",
        "import seaborn as sns\n",
        "import matplotlib.pyplot as plt\n",
        "from sklearn.metrics import accuracy_score, roc_auc_score\n",
        "\n",
        "# Generate synthetic data\n",
        "np.random.seed(0)\n",
        "data = np.random.rand(1000, 10)\n",
        "labels = np.random.randint(2, size=1000)\n",
        "test_data = np.random.rand(100, 10)\n",
        "test_labels = np.random.randint(2, size=100)\n",
        "\n",
        "# Divide the data into 5 parts for each individual model\n",
        "data_part1, data_part2, data_part3, data_part4, data_part5 = np.array_split(data, 5)\n",
        "\n",
        "# Train individual models on their own data\n",
        "model1 = xgb.XGBClassifier().fit(data_part1, labels[:200])\n",
        "model2 = xgb.XGBClassifier().fit(data_part2, labels[200:400])\n",
        "model3 = xgb.XGBClassifier().fit(data_part3, labels[400:600])\n",
        "model4 = xgb.XGBClassifier().fit(data_part4, labels[600:800])\n",
        "model5 = xgb.XGBClassifier().fit(data_part5, labels[800:])\n",
        "\n",
        "# Combine the models into a federated model\n",
        "federated_model = [model1, model2, model3, model4, model5]\n",
        "\n",
        "# Evaluate the federated model on the test data\n",
        "federated_predictions = [model.predict_proba(test_data)[:, 1] for model in federated_model]\n",
        "federated_predictions = np.mean(federated_predictions, axis=0)\n",
        "federated_predictions = np.round(federated_predictions).astype(int)\n",
        "\n",
        "# Compare the performance of the federated model to each individual model\n",
        "individual_predictions = [model.predict_proba(test_data)[:, 1] for model in [model1, model2, model3, model4, model5]]\n",
        "individual_accuracies = [accuracy_score(test_labels, np.round(predictions).astype(int)) for predictions in individual_predictions]\n",
        "individual_auc = [roc_auc_score(test_labels, predictions) for predictions in individual_predictions]\n",
        "federated_accuracy = accuracy_score(test_labels, federated_predictions)\n",
        "federated_auc = roc_auc_score(test_labels, federated_predictions)\n",
        "\n",
        "if federated_auc > max(individual_auc):\n",
        "    print(\"The federated model has higher performance, sharing with federated partners\")\n",
        "    # share the federated model with federated partners\n",
        "else:\n",
        "    print(\"The federated model does not have higher performance, keep individual models\")\n",
        "\n",
        "# Plot the accuracy and AUC of each individual model\n",
        "models = [\"Model 1\", \"Model 2\", \"Model 3\", \"Model 4\", \"Model 5\"]\n",
        "metrics = [\"Accuracy\", \"AUC\"]\n",
        "for metric in metrics:\n",
        "    if metric == \"Accuracy\":\n",
        "        values = individual_accuracies\n",
        "    else:\n",
        "        values = individual_auc\n",
        "sns.barplot(x=models, y=values)\n",
        "plt.title(f\"{metric} of Individual Models\")\n",
        "plt.show()\n",
        "# Plot the accuracy and AUC of the federated model\n",
        "\n",
        "models = [\"Federated Model\"]\n",
        "metrics = [\"Accuracy\", \"AUC\"]\n",
        "for metric in metrics:\n",
        "    if metric == \"Accuracy\":\n",
        "        values = [federated_accuracy]\n",
        "    else:\n",
        "        values = [federated_auc]\n",
        "sns.barplot(x=models, y=values)\n",
        "plt.title(f\"{metric} of Federated Model\")\n",
        "plt.show()\n"
      ],
      "metadata": {
        "colab": {
          "base_uri": "https://localhost:8080/",
          "height": 563
        },
        "id": "PoLHRR4JGnTO",
        "outputId": "dd7671f3-73a6-4725-9039-972c8d6536ad"
      },
      "execution_count": null,
      "outputs": [
        {
          "output_type": "stream",
          "name": "stdout",
          "text": [
            "The federated model does not have higher performance, keep individual models\n"
          ]
        },
        {
          "output_type": "display_data",
          "data": {
            "text/plain": [
              "<Figure size 432x288 with 1 Axes>"
            ],
            "image/png": "[encoded data removed]"
          },
          "metadata": {
            "needs_background": "light"
          }
        },
        {
          "output_type": "display_data",
          "data": {
            "text/plain": [
              "<Figure size 432x288 with 1 Axes>"
            ],
            "image/png": "[encoded data removed]"
          },
          "metadata": {
            "needs_background": "light"
          }
        }
      ]
    },
    {
      "cell_type": "code",
      "source": [
        "import xgboost as xgb\n",
        "import numpy as np\n",
        "import pandas as pd\n",
        "import seaborn as sns\n",
        "import matplotlib.pyplot as plt\n",
        "from sklearn.metrics import accuracy_score, roc_auc_score\n",
        "\n",
        "# Generate synthetic data\n",
        "np.random.seed(0)\n",
        "data = np.random.rand(1000, 10)\n",
        "labels = np.random.randint(2, size=1000)\n",
        "test_data = np.random.rand(100, 10)\n",
        "test_labels = np.random.randint(2, size=100)\n",
        "\n",
        "# Train the initial models\n",
        "model1 = xgb.XGBClassifier().fit(data[:200], labels[:200])\n",
        "model2 = xgb.XGBClassifier().fit(data[200:400], labels[200:400])\n",
        "model3 = xgb.XGBClassifier().fit(data[400:600], labels[400:600])\n",
        "model4 = xgb.XGBClassifier().fit(data[600:800], labels[600:800])\n",
        "model5 = xgb.XGBClassifier().fit(data[800:], labels[800:])\n",
        "\n",
        "# Combine the models into a federated model\n",
        "federated_model = [model1, model2, model3, model4, model5]\n",
        "\n",
        "# Evaluate the federated model on the test data\n",
        "federated_predictions = [model.predict_proba(test_data)[:, 1] for model in federated_model]\n",
        "federated_predictions = np.mean(federated_predictions, axis=0)\n",
        "federated_predictions = np.round(federated_predictions).astype(int)\n",
        "\n",
        "# Compare the performance of the federated model to each individual model\n",
        "individual_predictions = [model.predict_proba(test_data)[:, 1] for model in [model1, model2, model3, model4, model5]]\n",
        "individual_accuracies = [accuracy_score(test_labels, np.round(predictions).astype(int)) for predictions in individual_predictions]\n",
        "individual_auc = [roc_auc_score(test_labels, predictions) for predictions in individual_predictions]\n",
        "federated_accuracy = accuracy_score(test_labels, federated_predictions)\n",
        "federated_auc = roc_auc_score(test_labels, federated_predictions)\n",
        "\n",
        "if federated_auc > max(individual_auc):\n",
        "    print(\"The federated model has higher performance, sharing with federated partners\")\n",
        "    # share the federated model with federated partners\n",
        "else:\n",
        "    print(\"The federated model does not have higher performance, keep individual models\")\n",
        "\n",
        "# Plot the accuracy and AUC of each individual model\n",
        "models = [\"Model 1\", \"Model 2\", \"Model 3\", \"Model 4\", \"Model 5\", \"Federated Model\"]\n",
        "accuracies = individual_accuracies + [federated_accuracy]\n",
        "aucs = individual_auc + [federated_auc]\n",
        "\n",
        "performance = pd.DataFrame({\"Model\": models, \"Accuracy\": accuracies, \"AUC\": aucs})\n",
        "\n",
        "sns.set_style(\"whitegrid\")\n",
        "\n",
        "fig, ax = plt.subplots(nrows=1, ncols=2, figsize=(15, 7))\n",
        "\n",
        "sns.barplot(x=\"Model\", y=\"Accuracy\", data=performance, ax=ax[0])\n",
        "ax[0].set_title(\"Accuracy of Models\")\n",
        "\n",
        "sns.barplot(x=\"Model\", y=\"AUC\", data=performance, ax=ax[1])\n",
        "ax[1].set_title(\"AUC of Models\")\n",
        "\n",
        "plt.tight_layout()\n",
        "plt.show()\n"
      ],
      "metadata": {
        "colab": {
          "base_uri": "https://localhost:8080/",
          "height": 531
        },
        "id": "onq2LwayJY3L",
        "outputId": "58747fea-fb33-4cc8-a5e4-33b9af12c138"
      },
      "execution_count": null,
      "outputs": [
        {
          "output_type": "stream",
          "name": "stdout",
          "text": [
            "The federated model does not have higher performance, keep individual models\n"
          ]
        },
        {
          "output_type": "display_data",
          "data": {
            "text/plain": [
              "<Figure size 1080x504 with 2 Axes>"
            ],
            "image/png": "[encoded data removed]"
          },
          "metadata": {}
        }
      ]
    }
  ]
}