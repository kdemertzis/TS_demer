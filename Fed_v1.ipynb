{
  "nbformat": 4,
  "nbformat_minor": 0,
  "metadata": {
    "colab": {
      "provenance": [],
      "authorship_tag": "ABX9TyO9xS471HopTd/KyCZ++t2O",
      "include_colab_link": true
    },
    "kernelspec": {
      "name": "python3",
      "display_name": "Python 3"
    },
    "language_info": {
      "name": "python"
    }
  },
  "cells": [
    {
      "cell_type": "markdown",
      "metadata": {
        "id": "view-in-github",
        "colab_type": "text"
      },
      "source": [
        "<a href=\"https://colab.research.google.com/github/kdemertzis/TS_demer/blob/main/Fed_v1.ipynb\" target=\"_parent\"><img src=\"https://colab.research.google.com/assets/colab-badge.svg\" alt=\"Open In Colab\"/></a>"
      ]
    },
    {
      "cell_type": "code",
      "source": [
        "import numpy as np\n",
        "import pandas as pd\n",
        "\n",
        "# Number of samples for each individual training set\n",
        "num_samples = 1000\n",
        "\n",
        "# Generate individual training sets\n",
        "np.random.seed(0)\n",
        "X_train1 = np.random.normal(0, 1, (num_samples, 5))\n",
        "y_train1 = np.sum(X_train1, axis=1)\n",
        "\n",
        "np.random.seed(1)\n",
        "X_train2 = np.random.normal(1, 2, (num_samples, 5))\n",
        "y_train2 = np.sum(X_train2, axis=1)\n",
        "\n",
        "np.random.seed(2)\n",
        "X_train3 = np.random.normal(2, 3, (num_samples, 5))\n",
        "y_train3 = np.sum(X_train3, axis=1)\n",
        "\n",
        "# Combine individual training sets into one dataset\n",
        "X_train = np.concatenate((X_train1, X_train2, X_train3), axis=0)\n",
        "y_train = np.concatenate((y_train1, y_train2, y_train3), axis=0)\n",
        "\n",
        "# Save the combined dataset as a pandas dataframe\n",
        "df = pd.DataFrame(np.hstack((X_train, y_train.reshape(-1,1))))\n",
        "df.to_csv('network_traffic_dataset.csv', index=False, header=False)\n"
      ],
      "metadata": {
        "id": "WNYwP-HCfBnX"
      },
      "execution_count": 2,
      "outputs": []
    },
    {
      "cell_type": "code",
      "source": [
        "import numpy as np\n",
        "from sklearn.linear_model import LinearRegression\n",
        "\n",
        "# Generate synthetic datasets for individual nodes\n",
        "num_samples = 1000\n",
        "np.random.seed(0)\n",
        "X_train1 = np.random.normal(0, 1, (num_samples, 5))\n",
        "y_train1 = np.sum(X_train1, axis=1)\n",
        "\n",
        "np.random.seed(1)\n",
        "X_train2 = np.random.normal(1, 2, (num_samples, 5))\n",
        "y_train2 = np.sum(X_train2, axis=1)\n",
        "\n",
        "np.random.seed(2)\n",
        "X_train3 = np.random.normal(2, 3, (num_samples, 5))\n",
        "y_train3 = np.sum(X_train3, axis=1)\n",
        "\n",
        "# Train individual models on each node\n",
        "model1 = LinearRegression()\n",
        "model1.fit(X_train1, y_train1)\n",
        "\n",
        "model2 = LinearRegression()\n",
        "model2.fit(X_train2, y_train2)\n",
        "\n",
        "model3 = LinearRegression()\n",
        "model3.fit(X_train3, y_train3)\n",
        "\n",
        "# Federated aggregation\n",
        "coefs = [model.coef_ for model in [model1, model2, model3]]\n",
        "intercepts = [model.intercept_ for model in [model1, model2, model3]]\n",
        "\n",
        "updated_coef = np.mean(coefs, axis=0)\n",
        "updated_intercept = np.mean(intercepts, axis=0)\n",
        "\n",
        "updated_model = LinearRegression(fit_intercept=False)\n",
        "updated_model.coef_ = updated_coef\n",
        "updated_model.intercept_ = updated_intercept\n"
      ],
      "metadata": {
        "id": "p_hJUOm1gAba"
      },
      "execution_count": 4,
      "outputs": []
    },
    {
      "cell_type": "code",
      "source": [
        "import numpy as np\n",
        "import matplotlib.pyplot as plt\n",
        "from sklearn.linear_model import LinearRegression\n",
        "from sklearn.metrics import mean_squared_error, r2_score\n",
        "\n",
        "# Generate synthetic datasets for individual nodes\n",
        "num_samples = 1000\n",
        "np.random.seed(0)\n",
        "X_train1 = np.random.normal(0, 1, (num_samples, 5))\n",
        "y_train1 = np.sum(X_train1, axis=1)\n",
        "\n",
        "np.random.seed(1)\n",
        "X_train2 = np.random.normal(1, 2, (num_samples, 5))\n",
        "y_train2 = np.sum(X_train2, axis=1)\n",
        "\n",
        "np.random.seed(2)\n",
        "X_train3 = np.random.normal(2, 3, (num_samples, 5))\n",
        "y_train3 = np.sum(X_train3, axis=1)\n",
        "\n",
        "# Train individual models on each node\n",
        "model1 = LinearRegression()\n",
        "model1.fit(X_train1, y_train1)\n",
        "\n",
        "model2 = LinearRegression()\n",
        "model2.fit(X_train2, y_train2)\n",
        "\n",
        "model3 = LinearRegression()\n",
        "model3.fit(X_train3, y_train3)\n",
        "\n",
        "# Evaluate performance of individual models\n",
        "y_pred1 = model1.predict(X_train1)\n",
        "mse1 = mean_squared_error(y_train1, y_pred1)\n",
        "r2_1 = r2_score(y_train1, y_pred1)\n",
        "\n",
        "y_pred2 = model2.predict(X_train2)\n",
        "mse2 = mean_squared_error(y_train2, y_pred2)\n",
        "r2_2 = r2_score(y_train2, y_pred2)\n",
        "\n",
        "y_pred3 = model3.predict(X_train3)\n",
        "mse3 = mean_squared_error(y_train3, y_pred3)\n",
        "r2_3 = r2_score(y_train3, y_pred3)\n",
        "\n",
        "# Federated aggregation\n",
        "coefs = [model.coef_ for model in [model1, model2, model3]]\n",
        "intercepts = [model.intercept_ for model in [model1, model2, model3]]\n",
        "\n",
        "updated_coef = np.mean(coefs, axis=0)\n",
        "updated_intercept = np.mean(intercepts, axis=0)\n",
        "\n",
        "updated_model = LinearRegression(fit_intercept=False)\n",
        "updated_model.coef_ = updated_coef\n",
        "updated_model.intercept_ = updated_intercept\n",
        "\n",
        "# Evaluate performance of aggregated model\n",
        "y_pred_aggregated = updated_model.predict(X_train1)\n",
        "mse_aggregated = mean_squared_error(y_train1, y_pred_aggregated)\n",
        "r2_aggregated = r2_score(y_train1, y_pred_aggregated)\n",
        "\n",
        "# Plot performance metrics\n",
        "plt.bar(['Individual 1', 'Individual 2', 'Individual 3', 'Aggregated'], [mse1, mse2, mse3, mse_aggregated], color='b')\n",
        "plt.title(\"Mean Squared Error\")\n",
        "plt.show()\n",
        "\n",
        "plt.bar(['Individual 1', 'Individual 2', 'Individual 3', 'Aggregated'], [r2_1, r2_2, r2_3, r2_aggregated], color='g')\n",
        "plt.title(\"R-squared\")\n",
        "plt.show()\n"
      ],
      "metadata": {
        "colab": {
          "base_uri": "https://localhost:8080/",
          "height": 545
        },
        "id": "Mg3dMzuhgzno",
        "outputId": "5ac6e81d-96de-4aa5-f795-ed8eaf41f9c0"
      },
      "execution_count": 5,
      "outputs": [
        {
          "output_type": "display_data",
          "data": {
            "text/plain": [
              "<Figure size 432x288 with 1 Axes>"
            ],
            "image/png": "[encoded data removed]"
          },
          "metadata": {
            "needs_background": "light"
          }
        },
        {
          "output_type": "display_data",
          "data": {
            "text/plain": [
              "<Figure size 432x288 with 1 Axes>"
            ],
            "image/png": "[encoded data removed]"
          },
          "metadata": {
            "needs_background": "light"
          }
        }
      ]
    },
    {
      "cell_type": "code",
      "source": [
        "import numpy as np\n",
        "import matplotlib.pyplot as plt\n",
        "from sklearn.linear_model import LinearRegression\n",
        "from sklearn.metrics import mean_squared_error, r2_score\n",
        "\n",
        "# Generate synthetic datasets for individual nodes\n",
        "num_samples = 1000\n",
        "np.random.seed(0)\n",
        "X_train1 = np.random.normal(0, 1, (num_samples, 5))\n",
        "y_train1 = np.sum(X_train1**2, axis=1) + np.sin(X_train1[:,0]) + np.cos(X_train1[:,1]) + np.sin(X_train1[:,2]) + np.cos(X_train1[:,3]) + np.sin(X_train1[:,4])\n",
        "\n",
        "np.random.seed(1)\n",
        "X_train2 = np.random.normal(1, 2, (num_samples, 5))\n",
        "y_train2 = np.sum(X_train2**2, axis=1) + np.sin(X_train2[:,0]) + np.cos(X_train2[:,1]) + np.sin(X_train2[:,2]) + np.cos(X_train2[:,3]) + np.sin(X_train2[:,4])\n",
        "\n",
        "np.random.seed(2)\n",
        "X_train3 = np.random.normal(2, 3, (num_samples, 5))\n",
        "y_train3 = np.sum(X_train3**2, axis=1) + np.sin(X_train3[:,0]) + np.cos(X_train3[:,1]) + np.sin(X_train3[:,2]) + np.cos(X_train3[:,3]) + np.sin(X_train3[:,4])\n",
        "\n",
        "# Train individual models on each node\n",
        "model1 = LinearRegression()\n",
        "model1.fit(X_train1, y_train1)\n",
        "\n",
        "model2 = LinearRegression()\n",
        "model2.fit(X_train2, y_train2)\n",
        "\n",
        "model3 = LinearRegression()\n",
        "model3.fit(X_train3, y_train3)\n",
        "\n",
        "# Evaluate performance of individual models\n",
        "y_pred1 = model1.predict(X_train1)\n",
        "mse1 = mean_squared_error(y_train1, y_pred1)\n",
        "r2_1 = r2_score(y_train1, y_pred1)\n",
        "\n",
        "y_pred2 = model2.predict(X_train2)\n",
        "mse2 = mean_squared_error(y_train2, y_pred2)\n",
        "r2_2 = r2_score(y_train2, y_pred2)\n",
        "\n",
        "y_pred3 = model3.predict(X_train3)\n",
        "mse3 = mean_squared_error(y_train3, y_pred3)\n",
        "r2_3 = r2_score(y_train3, y_pred3)\n",
        "\n",
        "# Federated aggregation\n",
        "coefs = [model.coef_ for model in [model1, model2, model3]]\n",
        "intercepts = [model.intercept_ for model in [model1, model2, model3]]\n",
        "updated_coef = np.mean(coefs, axis=0)\n",
        "updated_intercept = np.mean(intercepts, axis=0)\n",
        "\n",
        "# Create an updated federated model using the aggregated coefficients and intercepts\n",
        "updated_model = LinearRegression(fit_intercept=False)\n",
        "updated_model.coef_ = updated_coef\n",
        "updated_model.intercept_ = updated_intercept\n",
        "\n",
        "# Evaluate the performance of the aggregated model by predicting the output on the first node's training data\n",
        "y_pred_aggregated = updated_model.predict(X_train1)\n",
        "mse_aggregated = mean_squared_error(y_train1, y_pred_aggregated)\n",
        "r2_aggregated = r2_score(y_train1, y_pred_aggregated)\n",
        "\n",
        "# Plot the performance metrics for each individual model and the final federated model\n",
        "plt.bar(['Individual 1', 'Individual 2', 'Individual 3', 'Aggregated'], [mse1, mse2, mse3, mse_aggregated], color='b')\n",
        "plt.title(\"Mean Squared Error\")\n",
        "plt.show()\n",
        "\n",
        "plt.bar(['Individual 1', 'Individual 2', 'Individual 3', 'Aggregated'], [r2_1, r2_2, r2_3, r2_aggregated], color='g')\n",
        "plt.title(\"R-squared\")\n",
        "plt.show()\n"
      ],
      "metadata": {
        "colab": {
          "base_uri": "https://localhost:8080/",
          "height": 545
        },
        "id": "bjAdkeymkA-b",
        "outputId": "c3843e8f-318d-4448-ee50-79143ec62afd"
      },
      "execution_count": 16,
      "outputs": [
        {
          "output_type": "display_data",
          "data": {
            "text/plain": [
              "<Figure size 432x288 with 1 Axes>"
            ],
            "image/png": "[encoded data removed]"
          },
          "metadata": {
            "needs_background": "light"
          }
        },
        {
          "output_type": "display_data",
          "data": {
            "text/plain": [
              "<Figure size 432x288 with 1 Axes>"
            ],
            "image/png": "[encoded data removed]"
          },
          "metadata": {
            "needs_background": "light"
          }
        }
      ]
    },
    {
      "cell_type": "code",
      "source": [],
      "metadata": {
        "id": "euk47X1GneRp"
      },
      "execution_count": null,
      "outputs": []
    }
  ]
}